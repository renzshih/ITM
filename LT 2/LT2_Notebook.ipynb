{
 "cells": [
  {
   "cell_type": "markdown",
   "metadata": {},
   "source": [
    "## ITMGT25 EE\n",
    "### Long Test 2\n",
    "\n",
    "Lecturer: Joben Ilagan"
   ]
  },
  {
   "cell_type": "markdown",
   "metadata": {},
   "source": [
    "**First Name:** Renz\n",
    "\n",
    "**Last Name:** Shih\n",
    "\n",
    "**Student ID:** 184520"
   ]
  },
  {
   "cell_type": "markdown",
   "metadata": {},
   "source": [
    "### Part A: Data Validation and Pattern Matching"
   ]
  },
  {
   "cell_type": "markdown",
   "metadata": {},
   "source": [
    "#### 1) Password Strength Indicator\n",
    "\n",
    "Write a function **validate_new_password** that accepts a new password and checks for the following in mandatory order, that is, the password will only be evaluated to the next strength level if weaker conditions before it are met.\n",
    "\n",
    "*Minimum. If not met, password is deemed unacceptable and do not check other conditions*\n",
    "* must be at least 8 characters **including** special characters (so any character)\n",
    "\n",
    "*Weak*\n",
    "* meets minimum password condition and must contain at least one (1) upper case letter\n",
    "\n",
    "*Medium*\n",
    "* meets at least the weak password condition and must have at least one (1) numeric character\n",
    "\n",
    "*Strong*\n",
    "* meets at least the medium password condition and must have at least one special character among the following: + @ ! * .\n",
    "\n",
    "The function must return a string with the following possible values:\n",
    "* 'unacceptable'\n",
    "* 'minimum'\n",
    "* 'weak'\n",
    "* 'medium'\n",
    "* 'strong'\n",
    "\n",
    "**(25 Points)**"
   ]
  },
  {
   "cell_type": "code",
   "execution_count": null,
   "metadata": {},
   "outputs": [],
   "source": [
    "import re\n",
    "\n",
    "def validate_new_password(password):\n",
    "    \"\"\"\n",
    "    @type: str\n",
    "    @rtype: str\n",
    "    \n",
    "    This one is weak because it does not have at least one numeric character\n",
    "    >>> validate_new_password(\"Youshallnotpass\")\n",
    "    'weak'\n",
    "    \n",
    "    This one is minimum because it meets the minimum eight characters required\n",
    "    Regex users: note that \\w may not work, so choose another pattern strategy\n",
    "    >>> validate_new_password(\"p@ssw0rd\")\n",
    "    'minimum'\n",
    "    \n",
    "    >>> validate_new_password(\"Y0ush@lln0tp@ss\")\n",
    "    'strong'\n",
    "    \n",
    "    This one is medium because it has at least one capitalized letter (\"Q\")\n",
    "    >>> validate_new_password(\"Qwerty123\")\n",
    "    'medium'\n",
    "    \n",
    "    This one, in spite of having one capitalized letter, one or more special characters,\n",
    "    and one numeric character, is still unacceptable because it doesn't even meet\n",
    "    the minimum number of characters\n",
    "    >>> validate_new_password(\"X!@1a\")\n",
    "    'unacceptable'\n",
    "    \n",
    "\n",
    "    \"\"\"\n",
    "    result=\"unacceptable\"\n",
    "    \n",
    "    # write your code below\n",
    "    # ---------------------\n",
    "    \n",
    "import re\n",
    "\n",
    "def validate_new_password(password):\n",
    "    \n",
    "    pattern1= re.match(r\"[\\w]{8,}\",'password')\n",
    "    pattern2 = re.match(r\".*[0-9].*\",\"password\")\n",
    "    pattern3= re.match(r\".*[@\\+!\\*\\.].*\",'password')\n",
    "    pattern4= re.match(r\".*[A-Z].*\",'password')\n",
    "    \n",
    "    password = input(\"Enter Your Password Here: \")\n",
    "    if re.match(pattern1, pattern3):\n",
    "        print(\"Minimal\")\n",
    "    elif re.match(pattern1, pattern4):\n",
    "        print(\"Weak\")\n",
    "    elif re.match(pattern1,pattern2,pattern4):\n",
    "        print(\"Medium\")\n",
    "    elif re.match(pattern1,pattern2,pattern3,pattern4):\n",
    "        print(\"Strong\")\n",
    "    else:\n",
    "        print(\"Unacceptable\")\n",
    "    \n",
    "    \n",
    "    \n",
    "    \n",
    "    # ---------------------\n",
    "    # end of your code\n",
    "    \n",
    "    return password\n",
    "          "
   ]
  },
  {
   "cell_type": "code",
   "execution_count": null,
   "metadata": {},
   "outputs": [],
   "source": [
    "# Optional: run to see if your code is correct\n",
    "import doctest\n",
    "\n",
    "doctest.testmod()"
   ]
  },
  {
   "cell_type": "code",
   "execution_count": null,
   "metadata": {},
   "outputs": [],
   "source": [
    "# Perform your tests here. Use the docstring test data above for guidance.\n",
    "validate_new_password(\"Y0ush@lln0tp@ss\")"
   ]
  },
  {
   "cell_type": "markdown",
   "metadata": {},
   "source": [
    "### Part B: Numeric Computations\n",
    "\n",
    "From this point onwards, there is no real requirement to define functions with expected return values."
   ]
  },
  {
   "cell_type": "markdown",
   "metadata": {},
   "source": [
    "**2) Software Services Company Scenario** \n",
    "\n",
    "You own a software company and a client wishes you to quote for work on a mobile app on a fixed price basis. You and your time come up with estimates based on roles and daily rates. You are given the project time and effort estimates and you are able to come up with NumPy arrays below:\n"
   ]
  },
  {
   "cell_type": "code",
   "execution_count": null,
   "metadata": {},
   "outputs": [],
   "source": [
    "import numpy as np\n",
    "\n",
    "roles       = np.array([\"Programmer\",\"Project Manager\",\"Business Analyst\",\"QA Analyst\",\"UX Designer\"])\n",
    "daily_rates = np.array([8500,14000,10000,8500,8500])\n",
    "man_days    = np.array([20,20,10,10,10])"
   ]
  },
  {
   "cell_type": "markdown",
   "metadata": {},
   "source": [
    "Note: a **man-day** is a day regarded in terms of the amount of work that can be done by one person within this period (one day in this case). Therefore, in our estimates above, the project will take 20 days of a Programmer's time, 20 days of a Project Manager's time, and so on. **Daily Rates** are the unit price per man day for a given role.\n",
    "\n",
    "The project cost component for a particular role is computed as follows:\n",
    "\n",
    "**project cost for role x = (daily rate of role x) * (man days rendered by role x)**"
   ]
  },
  {
   "cell_type": "markdown",
   "metadata": {},
   "source": [
    "**2a)**\n",
    "\n",
    "How much will the project cost to the customer be, broken down by role involvement (a.k.a. project cost for role)? Do a quick dump of the breakdown below (no need to use pure NumPy for printing the breakdown for now).\n",
    "\n",
    "**(5 points)**"
   ]
  },
  {
   "cell_type": "code",
   "execution_count": null,
   "metadata": {},
   "outputs": [],
   "source": [
    "## write your code below\n",
    "## -------------------------\n",
    "\n",
    "project_cost = daily_rates * man_days\n",
    "sum(project_cost)\n",
    "\n"
   ]
  },
  {
   "cell_type": "markdown",
   "metadata": {},
   "source": [
    "**2b)**\n",
    "\n",
    "To mitigate risks involving fixed-price projects, it's usually industry practice to pad around 20-30% on top of the base quote. Let's pad 30% to be on the safe side because the customer hasn't been very clear on what the real needs of the mobile app are.\n",
    "\n",
    "To be clear: \"padding\" means applying a certain percentage on top of the base. In our case, it's multiplying 1.30 to the base cost.\n",
    "\n",
    "How much would you quote the customer? Use NumPy operations to derive this.\n",
    "\n",
    "**(5 points)**"
   ]
  },
  {
   "cell_type": "code",
   "execution_count": null,
   "metadata": {},
   "outputs": [],
   "source": [
    "## write your code below\n",
    "## ------------------------------------\n",
    "\n",
    "\n",
    "padded_project_cost = project_cost*1.3\n",
    "sum(padded_project_cost)\n",
    "\n",
    "\n",
    "\n"
   ]
  },
  {
   "cell_type": "markdown",
   "metadata": {},
   "source": [
    "The customer agrees to your quote and is happy with the price. However, the person designated by the customer to provide the details required by your UX designers took long. Also, when the details were given, the programmers were not clear on what was actually needed. When the customer finally inspected the work, there were lots of revisions done. The Project Manager also had to stay longer because of the delays. QA too had to do another round of testing.\n",
    "\n",
    "The actual days rendered by each role are shown below:"
   ]
  },
  {
   "cell_type": "code",
   "execution_count": null,
   "metadata": {},
   "outputs": [],
   "source": [
    "actual_man_days    = np.array([30,25,10,20,20])"
   ]
  },
  {
   "cell_type": "markdown",
   "metadata": {},
   "source": [
    "**2c)**\n",
    "\n",
    "These extra man days could have been used to earn extra for the company in other more profitable projects.\n",
    "\n",
    "To compute this opportunity loss, we simply multiply the days lost by the daily rates per role.\n",
    "\n",
    "What is the opportunity loss per role?\n",
    "\n",
    "**(3 points)**"
   ]
  },
  {
   "cell_type": "code",
   "execution_count": null,
   "metadata": {},
   "outputs": [],
   "source": [
    "## write your code below for opportunity loss per role\n",
    "## ----------------------------------------------------\n",
    "\n",
    "days_lost = actual_man_days- man_days\n",
    "opportunity_loss= days_lost*daily_rates\n",
    "opportunity_loss\n"
   ]
  },
  {
   "cell_type": "markdown",
   "metadata": {},
   "source": [
    "**2d)**\n",
    "\n",
    "What is the total opportunity loss (a.k.a. \"project leak\")?\n",
    "\n",
    "**(2 points)**"
   ]
  },
  {
   "cell_type": "code",
   "execution_count": null,
   "metadata": {},
   "outputs": [],
   "source": [
    "## write your code below for total opportunity loss\n",
    "## ------------------------------------------------\n",
    "\n",
    "project_leak = sum(opportunity_loss)\n",
    "project_leak\n",
    "\n"
   ]
  },
  {
   "cell_type": "markdown",
   "metadata": {},
   "source": [
    "### Part C: Data Extraction, Loading and Transformation\n",
    "\n",
    "Consider this dataset from the Philippine Statisics Authority [website](http://openstat.psa.gov.ph/PXWeb/pxweb/en/DB/DB__2G/0032G4CBPC0.px/?rxid=bdf9d8da-96f1-4100-ae09-18cb3eaeb313).\n",
    "\n",
    "The file has already been downloaded for you and saved as **dataset.csv**.\n",
    "\n",
    "* Number - refer to the total number of units constructed\n",
    "* Floor area - refer to the sum of the area of construction\n",
    "* Type - refer to the use of the construction\n",
    "* Value - refer to the total estimated value of construction"
   ]
  },
  {
   "cell_type": "markdown",
   "metadata": {},
   "source": [
    "#### 3) Extraction of new data\n",
    "\n",
    "**3a)**\n",
    "\n",
    "Load the file **dataset.csv** into a Pandas DataFrame\n",
    "\n",
    "**(15 Points)**\n"
   ]
  },
  {
   "cell_type": "code",
   "execution_count": null,
   "metadata": {},
   "outputs": [],
   "source": [
    "import pandas as pd\n",
    "\n",
    "## write your code below\n",
    "## ------------------------\n",
    "\n",
    "data = pd.read_csv(\"dataset.csv\")\n",
    "\n",
    "\n"
   ]
  },
  {
   "cell_type": "markdown",
   "metadata": {},
   "source": [
    "**3b)**\n",
    "\n",
    "Inspect the header of the new dataframe\n",
    "\n",
    "**(5 points)**"
   ]
  },
  {
   "cell_type": "code",
   "execution_count": null,
   "metadata": {},
   "outputs": [],
   "source": [
    "## write your code below\n",
    "## ---------------------\n",
    "\n",
    "\n",
    "data.head()\n",
    "\n"
   ]
  },
  {
   "cell_type": "markdown",
   "metadata": {},
   "source": [
    "**3c)**\n",
    "\n",
    "You'll note that there is an extra line on top (as you scroll to the right).\n",
    "\n",
    "Reload the data again, this time skipping the first row. Re-inspect the header to see if the extra line is now gone.\n",
    "\n",
    "**(5 points)**"
   ]
  },
  {
   "cell_type": "code",
   "execution_count": null,
   "metadata": {},
   "outputs": [],
   "source": [
    "# write your code to reload the csv here\n",
    "\n",
    "df = pd.read_csv(\"dataset.csv\",skiprows=1)\n",
    "\n",
    "df\n",
    "\n"
   ]
  },
  {
   "cell_type": "markdown",
   "metadata": {},
   "source": [
    "**3d)**\n",
    "\n",
    "Inspect the tail of the dataframe to see if any extraneous lines were read in. Were there any? If so, discard. Otherwise, leave as-is.\n",
    "\n",
    "**(5 points)**"
   ]
  },
  {
   "cell_type": "code",
   "execution_count": null,
   "metadata": {},
   "outputs": [],
   "source": [
    "## write your code below\n",
    "## ---------------------\n",
    "\n",
    "df\n",
    "\n",
    "\n"
   ]
  },
  {
   "cell_type": "markdown",
   "metadata": {},
   "source": [
    "**3e)**\n",
    "\n",
    "Display the columns of the new dataframe. Write the command below to dump information about the columns on the output area below the cell.\n",
    "\n",
    "**(5 points)**"
   ]
  },
  {
   "cell_type": "code",
   "execution_count": null,
   "metadata": {},
   "outputs": [],
   "source": [
    "## write your code here\n",
    "\n",
    "for i, c in enumerate(df):\n",
    "    print(\"{}\".format(c))\n",
    "\n",
    "column =df.columns\n",
    "column\n"
   ]
  },
  {
   "cell_type": "markdown",
   "metadata": {},
   "source": [
    "**3f)**\n",
    "\n",
    "In one or two paragraphs, what other observations of the data can you make?\n",
    "\n",
    "* How many columns are there?\n",
    "* How do you describe the overall structure of the data?\n",
    "* Is it easy to perform analysis on? \n",
    "* How do you envision cleaning and transforming the data further?\n",
    "* Are they mostly numeric?\n",
    "* Are there any missing values?\n",
    "\n",
    "**(10 points)**"
   ]
  },
  {
   "cell_type": "markdown",
   "metadata": {},
   "source": [
    "*Write your answers in this cell in Markdown format.* (double-click to edit)\n",
    "\n",
    "-----The data frame given consists of 24 columns which are mostly numerical data about each location in the Philippines excluding the second and third coulumns which state the geolocation and period. The data frame is structured by the year, period, and location. The ones from 2017 came first before the ones from 2006 and the period starts from anual, quarter 1,2,3, and quarter 4 as the last. For the region, it started with the entire Philippines first followed by NCR and CAR then chronologically downwards starting from region 1. In terms of cleaning the data given, I envision showing all the data of a location first instead of doing it one by one based on the year and period. For example, I would put all the data from the whole country first from all years and periods followed by data from all other regions. Performing an analysis on the data is relatively easy since it is formatted in such a way that all the variables are in uniform with each other and simply looking at it would be enough to understand it. However, there are missing values from the Negros regions and ARMM.\n",
    "\n",
    "\n",
    "\n",
    "\n",
    "\n",
    "\n"
   ]
  },
  {
   "cell_type": "markdown",
   "metadata": {},
   "source": [
    "#### 4) Produce Clean Data\n",
    "\n",
    "**4a)**\n",
    "\n",
    "The numeric figures have \"..\"s mixed within. \n",
    "\n",
    "Replace these with zeros (0s) for the whole dataframe.\n",
    "\n",
    "**Be careful!** The data in Geolocation also has trailing \"..\"s so make sure you don't accidentally replace these with zeros as well.\n",
    "\n",
    "**(25 Points)**\n"
   ]
  },
  {
   "cell_type": "code",
   "execution_count": null,
   "metadata": {},
   "outputs": [],
   "source": [
    "## write your code below\n",
    "## ---------------------\n",
    "\n",
    "df.loc[:,\"Alterations/Repairs/Renovations Floor area\"] = df.loc[:,\"Alterations/Repairs/Renovations Floor area\"].replace(r\"..\",\"0\",regex=True)\n",
    "df.loc[:,\"Demolitions Floor area\"] = df.loc[:,\"Demolitions Floor area\"].replace(r\"..\",\"0\",regex=True)\n",
    "df.loc[:,\"Street furnitures... Floor area\"] = df.loc[:,\"Street furnitures... Floor area\"].replace(r\"..\",\"0\",regex=True)\n",
    "df.loc[:,\"Total Number\"]=df.loc[:,\"Total Number\"].replace(r\"^..\",\"0\",regex=True)\n",
    "df.loc[:,\"Total Value\"]=df.loc[:,\"Total Value\"].replace(r\"^..\",\"0\",regex=True)\n",
    "df.loc[:,\"Total Floor area\"]=df.loc[:,\"Total Floor area\"].replace(r\"^..\",\"0\",regex=True)\n",
    "df.loc[:,\"Residential Number\"]=df.loc[:,\"Residential Number\"].replace(r\"^..\",\"0\",regex=True)\n",
    "df.loc[:,\"Residential Floor area\"]=df.loc[:,\"Residential Floor area\"].replace(r\"^..\",\"0\",regex=True)\n",
    "df.loc[:,\"Residential Value\"]=df.loc[:,\"Residential Value\"].replace(r\"^..\",\"0\",regex=True)\n",
    "df.loc[:,\"Additions Value\"]=df.loc[:,\"Additions Value\"].replace(r\"^..\",\"0\",regex=True)\n",
    "df.loc[:,\"Non-residential Number\"]=df.loc[:,\"Non-residential Number\"].replace(r\"^..\",\"0\",regex=True)\n",
    "df.loc[:,\"Alterations/Repairs/Renovations Number\"]=df.loc[:,\"Alterations/Repairs/Renovations Number\"].replace(r\"^..\",\"0\",regex=True)\n",
    "df.loc[:,\"Alterations/Repairs/Renovations Value\"]=df.loc[:,\"Alterations/Repairs/Renovations Value\"].replace(r\"^..\",\"0\",regex=True)\n",
    "df.loc[:,\"Demolitions Number\"]=df.loc[:,\"Demolitions Number\"].replace(r\"^..\",\"0\",regex=True)\n",
    "df.loc[:,\"Demolitions Value\"]=df.loc[:,\"Demolitions Value\"].replace(r\"^..\",\"0\",regex=True)\n",
    "df.loc[:,\"Street furnitures... Number\"]=df.loc[:,\"Street furnitures... Number\"].replace(r\"^..\",\"0\",regex=True)\n",
    "df.loc[:,\"Street furnitures... Value\"]=df.loc[:,\"Street furnitures... Value\"].replace(r\"^..\",\"0\",regex=True)\n",
    "df"
   ]
  },
  {
   "cell_type": "markdown",
   "metadata": {},
   "source": [
    "**4b)**\n",
    "\n",
    "Now take out the leading '..' in the \"Geolocation\" column. Make sure that the changes are permanent.\n",
    "\n",
    "*Tip: when in doubt, practice with one line of string.*\n",
    "\n",
    "**(10 points)**"
   ]
  },
  {
   "cell_type": "code",
   "execution_count": null,
   "metadata": {
    "scrolled": false
   },
   "outputs": [],
   "source": [
    "## write your code below\n",
    "## ------------------------------\n",
    "df.loc[:,\"Geolocation\"]=df.loc[:,\"Geolocation\"].str.replace(r\"\\.\\.\",\"\",regex=True)\n",
    "\n",
    "df"
   ]
  },
  {
   "cell_type": "markdown",
   "metadata": {},
   "source": [
    "**4c)**\n",
    "\n",
    "What are the datatypes of each column? Write a command which will dump the types in the results after the cell.\n",
    "\n",
    "**(5 points)**"
   ]
  },
  {
   "cell_type": "code",
   "execution_count": null,
   "metadata": {},
   "outputs": [],
   "source": [
    "## write your code below\n",
    "## -----------------------------------\n",
    "\n",
    "df.dtypes"
   ]
  },
  {
   "cell_type": "markdown",
   "metadata": {},
   "source": [
    "**4d)**\n",
    "\n",
    "We cannot work with supposedly-numeric values that are actually strings.\n",
    "\n",
    "Convert columns from **'Total Value'** to **'Street furnitures... Value'** to numeric.\n",
    "\n",
    "Verify that the changes have been permanent.\n",
    "\n",
    "**(5 points)**"
   ]
  },
  {
   "cell_type": "code",
   "execution_count": null,
   "metadata": {},
   "outputs": [],
   "source": [
    "## write code below\n",
    "## -----------------------\n",
    "df.loc[:,\"Total Value\":\"Street furnitures... Value\"]=df.loc[:,\"Total Value\":\"Street furnitures... Value\"].apply(pd.to_numeric)\n",
    "\n"
   ]
  },
  {
   "cell_type": "code",
   "execution_count": null,
   "metadata": {},
   "outputs": [],
   "source": [
    "## write code to verify the changes in datatypes of the columns here\n",
    "## -------------------------------\n",
    "\n",
    "\n",
    "\n"
   ]
  },
  {
   "cell_type": "markdown",
   "metadata": {},
   "source": [
    "### Part D: Exploratory Data Analysis and Data Visualization"
   ]
  },
  {
   "cell_type": "markdown",
   "metadata": {},
   "source": [
    "\n",
    "\n",
    "#### 5) Preliminary Data Analysis\n",
    "\n",
    "Now that our dataset is in a state that is ready for Exploratory Data Analysis, we can now dig deeper into questions.\n",
    "\n"
   ]
  },
  {
   "cell_type": "code",
   "execution_count": null,
   "metadata": {},
   "outputs": [],
   "source": [
    "# (optional) inspect the dataframe again here\n",
    "# ---------------------------------\n",
    "\n",
    "\n",
    "\n"
   ]
  },
  {
   "cell_type": "markdown",
   "metadata": {},
   "source": [
    "**5a)**\n",
    "\n",
    "We'd like to know the Residential and Non-residential Values per Floor Area. Note that we don't know whether floor area is in square meters or square feet. Let it not matter for now.\n",
    "\n",
    "Create two new columns:\n",
    "* Residential Value Per Floor Area = \"Residential Value\" / \"Residential Floor area\"\n",
    "* Non-residential Value Per Floor Area = \"Non-residential Value\" / \"Non-residential Floor area\"\n",
    "\n",
    "Inspect the new columns.\n",
    "\n",
    "**(15 points)**"
   ]
  },
  {
   "cell_type": "code",
   "execution_count": null,
   "metadata": {},
   "outputs": [],
   "source": [
    "## write your code below\n",
    "## ---------------------\n",
    "\n",
    "Residential_Value_Per_Floor_Area = \"Residential Value\" / \"Residential Floor area\"\n",
    "Non-residential_Value_Per_Floor_Area = \"Non-residential Value\" / \"Non-residential Floor area\"\n",
    "\n",
    "df[\"Residential_Value_Per_Floor_Area\"]=df.apply(lambda x: Residential_Value_Per_Floor_Area[x])\n"
   ]
  },
  {
   "cell_type": "code",
   "execution_count": null,
   "metadata": {},
   "outputs": [],
   "source": [
    "## additional scratch area to inspect the new columns\n",
    "\n",
    "\n",
    "\n"
   ]
  },
  {
   "cell_type": "markdown",
   "metadata": {},
   "source": [
    "**5b)**\n",
    "\n",
    "Oops, there seems to have been NaNs introduced with the addition of the new columns. Perhaps brought about by divided-by-zero operations. \n",
    "\n",
    "What are rows with NaNs? Write code that displays these rows in the output area of the cell.\n",
    "\n",
    "*Hint: use DataFrame.any(axis=1)*\n",
    "\n",
    "**(10 points)**"
   ]
  },
  {
   "cell_type": "code",
   "execution_count": null,
   "metadata": {},
   "outputs": [],
   "source": [
    "## write your code below\n",
    "\n",
    "\n",
    "df.loc[df.isna().any(axis=1),:]\n",
    "\n"
   ]
  },
  {
   "cell_type": "markdown",
   "metadata": {},
   "source": [
    "**5c)**\n",
    "\n",
    "Replace the NaNs with zeros (0s). Verify that no more rows with NaNs exist after. Show that there are zero (0) rows that have NaNs.\n",
    "\n",
    "**(10 points)**"
   ]
  },
  {
   "cell_type": "code",
   "execution_count": null,
   "metadata": {},
   "outputs": [],
   "source": [
    "# write your code below\n",
    "\n",
    "\n",
    "\n",
    "df.fillna(0)\n"
   ]
  },
  {
   "cell_type": "markdown",
   "metadata": {},
   "source": [
    "#### 6) Data Visualization"
   ]
  },
  {
   "cell_type": "markdown",
   "metadata": {},
   "source": [
    "**6a)**\n",
    "\n",
    "Warm-up Matplotlib activities.\n",
    "\n",
    "Prepare a scatterplot of Total Value per year (which means we need the Annual, not Quarter figures) for the whole of the PHILIPPINES.\n",
    "\n",
    "**(10 points)**"
   ]
  },
  {
   "cell_type": "code",
   "execution_count": null,
   "metadata": {},
   "outputs": [],
   "source": [
    "import matplotlib.pyplot as plt\n",
    "\n",
    "## write your code below\n",
    "## --------------------------\n",
    "\n",
    "\n",
    "df.plot.scatter(x=1, y=\"Total Value\")\n",
    "\n",
    "\n",
    "\n",
    "# You may need the lines below. Comment-out as you see fit.\n",
    "# ax.set_ylabel(\"Value (in Millions)\")\n",
    "# ax.set_xlabel(\"Year\")\n"
   ]
  },
  {
   "cell_type": "markdown",
   "metadata": {},
   "source": [
    "**6b)**\n",
    "\n",
    "Create a quick and dirty bar plot showing both Residential Value and Non-Residential Value throughout the years for the whole of the PHILIPPINES stacked together in one bar per year (a.k.a. \"stacked bar\"). No need to format the numbers, but go ahead if you want to.\n",
    "\n",
    "*Hint:* draw two sets of bars, the second one with a **bottom** parameter pointing to the height of the first one.\n",
    "\n",
    "\n",
    "**(15 points)**"
   ]
  },
  {
   "cell_type": "code",
   "execution_count": null,
   "metadata": {},
   "outputs": [],
   "source": [
    "## write your code below; use more cells as needed\n",
    "## -------------------------------------------------\n",
    "import numpy as np\n",
    "import matplotlib.pyplot as plt\n",
    "import pandas as pd\n",
    "\n",
    "rc('font', weight='bold')\n",
    " \n",
    "bar1 = [12, 28]\n",
    "bar2 = [28, 7]\n",
    " \n",
    "#add the 2 so the starting point of the second will be the end of the first\n",
    "bars = np.add(bar1, bar2).tolist()\n",
    " \n",
    "r = [0,1]\n",
    " \n",
    "names = [\"residential value\",\"Non-residential value\"]\n",
    "Width = 1\n",
    " \n",
    "plt.bar(r, bar1, color='orange', edgecolor='white', width=Width)\n",
    "plt.bar(r, bar2, bottom=bar1, color='green', edgecolor='white', width=Width)\n",
    " \n",
    "#Label of the axes\n",
    "plt.xticks(r, names)\n",
    "\n"
   ]
  },
  {
   "cell_type": "code",
   "execution_count": null,
   "metadata": {},
   "outputs": [],
   "source": [
    "## write your code below; use more cells as needed\n",
    "## -------------------------------------------------\n",
    "\n",
    "\n",
    "import matplotlib.pyplot as plt\n",
    "\n",
    "\n",
    "\n",
    "# You may need the lines below. Comment-out as you see fit.\n",
    "# ax.set_ylabel(\"Value (in Millions)\")\n",
    "# ax.set_xlabel(\"Year\")\n",
    "\n"
   ]
  },
  {
   "cell_type": "markdown",
   "metadata": {},
   "source": [
    "**6c)**\n",
    "\n",
    "Create quick and dirty bar plot showing Total Value for 2017 across Regions, sorted by Total Value in descending order. No need to format the numbers, but you can if you'd like.\n",
    "\n",
    "Note that all rows except those with PHILIPPINES are for regions, so simply omit the rows with PHILIPPINES.\n",
    "\n",
    "Also note that Year is now numeric.\n",
    "\n",
    "**(10 points)**"
   ]
  },
  {
   "cell_type": "code",
   "execution_count": null,
   "metadata": {},
   "outputs": [],
   "source": [
    "## write your code below\n",
    "fig, ax = plt.subplots(1) #determines how many subplots\n",
    "\n",
    "#Design of the Title\n",
    "title_font = {\"fontfamily\":\"Arial\", \"fontsize\":24}\n",
    "label_font = {\"fontfamily\":\"Arial\", \"fontsize\":12}\n",
    "\n",
    "\n",
    "bar_parameters = {\"color\":\"Blue\"}\n",
    "\n",
    "#Title\n",
    "ax.set_title(\"Total Value for 2017\", **title_font)\n",
    "#ax.set_title(\"Total value for 2017)\", fontfamily=\"Arial\", fontsize=24)\n",
    "\n",
    "#Variables and values\n",
    "ax.bar(height=df.sort_values(by=['2017'],ascending=False).loc[:,\"2017\"], x=df.sort_values(by=['2017'],ascending=False).loc[:,\"Total Value\"], **bar_parameters)\n",
    "ax.set_ylabel(\"Amount (in Millions)\", **label_font)\n",
    "ax.set_xlabel(\"Regions\", **label_font)\n",
    "\n",
    "for tick in ax.get_xticklabels():\n",
    "    tick.set_rotation(90)\n",
    "\n",
    "\n"
   ]
  },
  {
   "cell_type": "code",
   "execution_count": null,
   "metadata": {},
   "outputs": [],
   "source": [
    "\n",
    "\n",
    "\n",
    "\n",
    "\n",
    "\n",
    "# comment this out later. you will need it.\n",
    "# thank me later.\n",
    "# ax.set_ylabel(\"Amount (in Millions)\")\n",
    "# ax.set_xlabel(\"Regions\")\n",
    "# for tick in ax.get_xticklabels():\n",
    "#    tick.set_rotation(90)"
   ]
  },
  {
   "cell_type": "code",
   "execution_count": null,
   "metadata": {},
   "outputs": [],
   "source": []
  }
 ],
 "metadata": {
  "kernelspec": {
   "display_name": "Python 3",
   "language": "python",
   "name": "python3"
  },
  "language_info": {
   "codemirror_mode": {
    "name": "ipython",
    "version": 3
   },
   "file_extension": ".py",
   "mimetype": "text/x-python",
   "name": "python",
   "nbconvert_exporter": "python",
   "pygments_lexer": "ipython3",
   "version": "3.7.3"
  }
 },
 "nbformat": 4,
 "nbformat_minor": 2
}
