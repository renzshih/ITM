{
 "cells": [
  {
   "cell_type": "markdown",
   "metadata": {},
   "source": [
    "# ITMGT 25.03 EE\n",
    "# Assignment 3B\n",
    "\n",
    "This is a data-cleaning assignment and is the second of two parts. This notebook is uploaded to our Github repository along with a csv of fake, dirty data called **recweekdata.csv**.\n",
    "\n",
    "In addition, you have a new file called **studentprofiles.csv** which has first and last names plus the genders of the students.\n",
    "\n",
    "The output of this assignment is to convert recweekdata.csv into processable data for statistics. Submit the following files through GitHub:\n",
    "1. A cleaned recweekdata.csv called **cleanrecweekdata3b.csv** **(5 points)**\n",
    "2. This notebook, containing the code (properly commented) that you used to clean the data **(5 points)**\n",
    "3. An html file of summary statistics from each column called **stats3b.html**. The requirements for the summary statistics are described below. **(10 points)**\n",
    "\n",
    "The outputs are similar to that of Assignment 3A, except that you will now use Pandas instead of Python lists.\n",
    "\n",
    "This entire assignment (3B) is worth 20 points.\n",
    "\n",
    "Upload your output files to your Github repositories. Make sure to send an email to **joben.ilagan@gmail.com** once you're done.\n",
    "\n",
    "This assignment is due on **Monday, July 9, 2019** at 12:00NN.\n",
    "\n",
    "Note: I understand you all need to review for LT 2. Think of this Assignment as practice. It's not meant to take you as long as 3A.\n",
    "\n",
    "#### Bonus Points:\n",
    "* +2 if submitted over (or before) the weekend (July 13-14)\n",
    "* +2 if CSS and div tags are used (but please don't spend too much time on this because you still need to review for the Long Test)"
   ]
  },
  {
   "cell_type": "code",
   "execution_count": 126,
   "metadata": {},
   "outputs": [],
   "source": [
    "## Code goes here\n",
    "import pandas as pd\n",
    "import numpy as np\n",
    "import re\n",
    "\n",
    "\n",
    "student_profiles = pd.read_csv(\"studentprofiles.csv\")\n",
    "recweekdata = pd.read_csv(\"recweekdata.csv\")"
   ]
  },
  {
   "cell_type": "code",
   "execution_count": 127,
   "metadata": {},
   "outputs": [],
   "source": [
    "merge = pd.merge(student_profiles, recweekdata)"
   ]
  },
  {
   "cell_type": "code",
   "execution_count": 128,
   "metadata": {},
   "outputs": [],
   "source": [
    "# replaced the last 3 months first to avoid mixing up october as january0 and so on...\n",
    "# should use merge.loc[:,\"birthmonth\"] as the variable because if not, only one will be changed and it will not carry over\n",
    "# $ makes the program read in reverse or from right to left so it avoids repetitions like decemberember\n",
    "# no need for ^ before number since the maximum number of digits is only two, only 11 will repeat but it is defined\n",
    "#A|B matching gotten from regex cheat sheet\n",
    "# clean birthmonth into \"January\" format\n",
    "merge.loc[:,\"birthmonth\"] = merge.loc[:,\"birthmonth\"].replace(r\"10|Oct$\",\"October\",regex=True)\n",
    "merge.loc[:,\"birthmonth\"] = merge.loc[:,\"birthmonth\"].replace(r\"11|Nov$\",\"November\",regex=True)\n",
    "merge.loc[:,\"birthmonth\"] = merge.loc[:,\"birthmonth\"].replace(r\"12|Dec$\",\"December\",regex=True)"
   ]
  },
  {
   "cell_type": "code",
   "execution_count": 129,
   "metadata": {},
   "outputs": [],
   "source": [
    "merge.loc[:,\"birthmonth\"] = merge.loc[:,\"birthmonth\"].replace(r\"1|Jan$\",\"January\",regex=True) \n",
    "merge.loc[:,\"birthmonth\"] = merge.loc[:,\"birthmonth\"].replace(r\"2|Feb$\",\"February\",regex=True) \n",
    "merge.loc[:,\"birthmonth\"] = merge.loc[:,\"birthmonth\"].replace(r\"3|Mar$\",\"March\",regex=True) \n",
    "merge.loc[:,\"birthmonth\"] = merge.loc[:,\"birthmonth\"].replace(r\"4|Apr$\",\"April\",regex=True) \n",
    "merge.loc[:,\"birthmonth\"] = merge.loc[:,\"birthmonth\"].replace(r\"6|Jun$\",\"June\",regex=True)\n",
    "merge.loc[:,\"birthmonth\"] = merge.loc[:,\"birthmonth\"].replace(r\"7|Jul$\",\"July\",regex=True)\n",
    "merge.loc[:,\"birthmonth\"] = merge.loc[:,\"birthmonth\"].replace(r\"8|Aug$\",\"August\",regex=True)\n",
    "merge.loc[:,\"birthmonth\"] = merge.loc[:,\"birthmonth\"].replace(r\"9|Sep$\",\"September\",regex=True)\n",
    "merge.loc[:,\"birthmonth\"] = merge.loc[:,\"birthmonth\"].replace(r\"5\",\"May\",regex=True)"
   ]
  },
  {
   "cell_type": "code",
   "execution_count": 130,
   "metadata": {},
   "outputs": [],
   "source": [
    "# clean birth year into \"19xx\" format\n",
    "merge.loc[:,\"birthyear\"] = merge.loc[:,\"birthyear\"].astype(str).replace(r\"^97\",\"1997\",regex=True)\n",
    "merge.loc[:,\"birthyear\"] = merge.loc[:,\"birthyear\"].astype(str).replace(r\"^98\",\"1998\",regex=True)\n",
    "merge.loc[:,\"birthyear\"] = merge.loc[:,\"birthyear\"].astype(str).replace(r\"^99\",\"1999\",regex=True)\n",
    "merge.loc[:,\"birthyear\"] = merge.loc[:,\"birthyear\"].astype(str).replace(r\"^00\",\"2000\",regex=True)\n",
    "merge.loc[:,\"birthyear\"] = merge.loc[:,\"birthyear\"].astype(str).replace(r\"^01\",\"2001\",regex=True)"
   ]
  },
  {
   "cell_type": "code",
   "execution_count": 131,
   "metadata": {},
   "outputs": [],
   "source": [
    "# clean course into \"BS Management\" format\n",
    "#similar to birthmonth\n",
    "#several course codes that need to have the same result after cleansing so used A|B matching\n",
    "merge.loc[:,\"course\"] = merge.loc[:,\"course\"].str.replace(r\"^Communications Technology|BS CTM|CTM\", \"BS Communications Technology Management\",regex=True)\n",
    "merge.loc[:,\"course\"] = merge.loc[:,\"course\"].str.replace(r\"^Information Technology Entrepreneurship|BS ITE|ITE\", \"BS IT Entrepreneurship\",regex=True)\n",
    "merge.loc[:,\"course\"] = merge.loc[:,\"course\"].str.replace(r\"^Management Engineering|BS ME|ME\", \"BS Management Engineering\",regex=True)\n",
    "merge.loc[:,\"course\"] = merge.loc[:,\"course\"].str.replace(r\"^Management|BS MGT|MGT\", \"BS Management\",regex=True)\n",
    "merge.loc[:,\"course\"] = merge.loc[:,\"course\"].str.replace(r\"^Legal Management|BS LM|LM\", \"BS Legal Management\",regex=True)"
   ]
  },
  {
   "cell_type": "code",
   "execution_count": 132,
   "metadata": {},
   "outputs": [],
   "source": [
    "# clean phone number into \"+639xxxxxxxx\"\n",
    "# need to us ^ since there may be a lot of 9's in the phone number and only the 1st one has to be changed\n",
    "merge.loc[:,\"phonenumber\"] = merge.loc[:,\"phonenumber\"].str.replace(r\"^9\",\"+63 9\",regex=True)"
   ]
  },
  {
   "cell_type": "code",
   "execution_count": 133,
   "metadata": {},
   "outputs": [],
   "source": [
    "#add a carrier\n",
    "merge.loc[:,\"phonenumber\"].str[0:7]\n",
    "carrier = {\"+63 917\":\"Globe\",\"+63 918\":\"Smart\", \"+63 927\":\"Globe\"}\n",
    "merge[\"carrier\"] = merge.loc[:,\"phonenumber\"].str[0:7].apply(lambda x: carrier[x])"
   ]
  },
  {
   "cell_type": "code",
   "execution_count": 134,
   "metadata": {},
   "outputs": [],
   "source": [
    "# create new csv file which is already clean\n",
    "merge.to_csv(\"cleanrecweekdata3b.csv\", index= True)"
   ]
  },
  {
   "cell_type": "markdown",
   "metadata": {},
   "source": [
    "# Required Summary Statistics\n",
    "\n",
    "#### These were the questions from 3A:\n",
    "\n",
    "1. How many people were born in each month?\n",
    "2. How many people were born on each day?\n",
    "3. How many people were born in each year?\n",
    "4. How many people come from each course?\n",
    "5. How many people have numbers from Globe (0917 or 0927) and Smart (0918)? *Note: it's up to you how to format this output*\n",
    "\n",
    "#### Additional Questions:\n",
    "* How many Globe subscribers are: Male? Female?\n",
    "* How many Smart subscribers are: Male? Female?\n",
    "\n",
    "Answer these questions in an html file called **stats3b.html**. The format of the html is as follows (in template form, so you can use this as format string in your program, though feel free to modify with variable names if you find it easier to do so):\n"
   ]
  },
  {
   "cell_type": "markdown",
   "metadata": {},
   "source": [
    "```\n",
    "<html>\n",
    "    <body>\n",
    "         <h2>Summary Statistics</h2>\n",
    "         <table>\n",
    "             <tr><th>Stat</th><th>Value</th></tr>\n",
    "             <tr><td>People born in each month</td><td>{}</td></tr>\n",
    "             <tr><td>People born on each day</td><td>{}</td></tr>\n",
    "             <tr><td>People born in each year</td><td>{}</td></tr>\n",
    "             <tr><td>People coming from each course</td><td>{}</td></tr>\n",
    "             <tr><td>People having numbers from Globe and Smart</td><td>{}</td></tr>\n",
    "             <tr><td>Male Globe subscribers:</td><td>{}</td></tr>\n",
    "             <tr><td>Female Globe subscribers:</td><td>{}</td></tr>\n",
    "             <tr><td>Male Smart subscribers:</td><td>{}</td></tr>\n",
    "             <tr><td>Female Smart subscribers:</td><td>{}</td></tr>\n",
    "         </table>\n",
    "    </body>\n",
    "</html>\n",
    "```"
   ]
  },
  {
   "cell_type": "code",
   "execution_count": 135,
   "metadata": {},
   "outputs": [
    {
     "data": {
      "text/plain": [
       "birthmonth\n",
       "April        267\n",
       "August       241\n",
       "December     276\n",
       "February     232\n",
       "January      270\n",
       "July         249\n",
       "June         259\n",
       "March        246\n",
       "May          273\n",
       "November     277\n",
       "October      178\n",
       "September    232\n",
       "Name: phonenumber, dtype: int64"
      ]
     },
     "execution_count": 135,
     "metadata": {},
     "output_type": "execute_result"
    }
   ],
   "source": [
    "#used phone number for each to be different\n",
    "#first names and last names are all different but in reality there are some that have the same first names and/or last names\n",
    "merge.groupby([\"birthmonth\"])[\"phonenumber\"].count()"
   ]
  },
  {
   "cell_type": "code",
   "execution_count": 136,
   "metadata": {},
   "outputs": [
    {
     "data": {
      "text/plain": [
       "birthday\n",
       "1     112\n",
       "2     106\n",
       "3      90\n",
       "4     110\n",
       "5     100\n",
       "6      99\n",
       "7      88\n",
       "8     111\n",
       "9      98\n",
       "10    111\n",
       "11    105\n",
       "12     98\n",
       "13    119\n",
       "14    102\n",
       "15    121\n",
       "16    115\n",
       "17    116\n",
       "18    107\n",
       "19    113\n",
       "20     91\n",
       "21    123\n",
       "22    103\n",
       "23    116\n",
       "24    108\n",
       "25    116\n",
       "26    116\n",
       "27    102\n",
       "28    104\n",
       "Name: phonenumber, dtype: int64"
      ]
     },
     "execution_count": 136,
     "metadata": {},
     "output_type": "execute_result"
    }
   ],
   "source": [
    "merge.groupby([\"birthday\"])[\"phonenumber\"].count()"
   ]
  },
  {
   "cell_type": "code",
   "execution_count": 137,
   "metadata": {},
   "outputs": [
    {
     "data": {
      "text/plain": [
       "birthyear\n",
       "1997    756\n",
       "1998    746\n",
       "1999    756\n",
       "2000    380\n",
       "2001    362\n",
       "Name: phonenumber, dtype: int64"
      ]
     },
     "execution_count": 137,
     "metadata": {},
     "output_type": "execute_result"
    }
   ],
   "source": [
    "merge.groupby([\"birthyear\"])[\"phonenumber\"].count()"
   ]
  },
  {
   "cell_type": "code",
   "execution_count": 138,
   "metadata": {},
   "outputs": [
    {
     "data": {
      "text/plain": [
       "course\n",
       "BS Communications Technology Management    589\n",
       "BS IT Entrepreneurship                     590\n",
       "BS Legal Management                        585\n",
       "BS Management                              629\n",
       "BS Management Engineering                  607\n",
       "Name: phonenumber, dtype: int64"
      ]
     },
     "execution_count": 138,
     "metadata": {},
     "output_type": "execute_result"
    }
   ],
   "source": [
    "merge.groupby([\"course\"])[\"phonenumber\"].count()"
   ]
  },
  {
   "cell_type": "code",
   "execution_count": 139,
   "metadata": {},
   "outputs": [
    {
     "data": {
      "text/plain": [
       "carrier\n",
       "Globe    2045\n",
       "Smart     955\n",
       "Name: phonenumber, dtype: int64"
      ]
     },
     "execution_count": 139,
     "metadata": {},
     "output_type": "execute_result"
    }
   ],
   "source": [
    "merge.groupby([\"carrier\"])[\"phonenumber\"].count()"
   ]
  },
  {
   "cell_type": "code",
   "execution_count": 140,
   "metadata": {},
   "outputs": [
    {
     "data": {
      "text/plain": [
       "carrier  gender\n",
       "Globe    Female     984\n",
       "         Male      1061\n",
       "Smart    Female     494\n",
       "         Male       461\n",
       "Name: phonenumber, dtype: int64"
      ]
     },
     "execution_count": 140,
     "metadata": {},
     "output_type": "execute_result"
    }
   ],
   "source": [
    "merge.groupby([\"carrier\",\"gender\"])[\"phonenumber\"].count()"
   ]
  },
  {
   "cell_type": "code",
   "execution_count": 193,
   "metadata": {},
   "outputs": [],
   "source": [
    "html = \"\"\"\n",
    "\n",
    "<p> </p>\n",
    "<h2 style=\"text-align: left;\"><span style=\"background-color: #cc99ff;\"> <strong> <em> Summary </em> </strong> </span></h2>\n",
    "<h2 style=\"text-align: left;\"><span style=\"background-color: #ffcc99;\"> Stats </span></h2>\n",
    "<div class=\"rTable\" style=\"text-align: left;\">\n",
    "<div class=\"rTableBody\">\n",
    "<div class=\"rTableRow\">\n",
    "<div class=\"rTableCell\"><span style=\"background-color: #00ffff;\"> <strong> People born in each month </strong> </span></div>\n",
    "<div class=\"rTableCell\">\n",
    "<div class=\"col\"><span style=\"background-color: #00ffff;\"> January: 270 </span></div>\n",
    "<div class=\"col\"><span style=\"background-color: #00ffff;\"> February: 232 </span></div>\n",
    "<div class=\"col\"><span style=\"background-color: #00ffff;\"> March: 246 </span></div>\n",
    "<div class=\"col\"><span style=\"background-color: #00ffff;\"> April: 267 </span></div>\n",
    "<div class=\"col\"><span style=\"background-color: #00ffff;\"> May: 273 </span></div>\n",
    "<div class=\"col\"><span style=\"background-color: #00ffff;\"> June: 259 </span></div>\n",
    "<div class=\"col\"><span style=\"background-color: #00ffff;\"> July: 249 </span></div>\n",
    "<div class=\"col\"><span style=\"background-color: #00ffff;\"> August: 241 </span></div>\n",
    "<div class=\"col\"><span style=\"background-color: #00ffff;\"> September: 232 </span></div>\n",
    "<div class=\"col\"><span style=\"background-color: #00ffff;\"> October: 178 </span></div>\n",
    "<div class=\"col\"><span style=\"background-color: #00ffff;\"> November: 277 </span></div>\n",
    "<div class=\"col\"><span style=\"background-color: #00ffff;\"> December: 276 </span></div>\n",
    "</div>\n",
    "</div>\n",
    "<div class=\"rTableRow\">\n",
    "<div class=\"rTableCell\"><strong> <span style=\"background-color: #ff99cc;\"> People born on each day </span> </strong></div>\n",
    "<div class=\"rTableCell\">\n",
    "<p><span style=\"background-color: #ff99cc;\"> 1: 112 </span></p>\n",
    "<p><span style=\"background-color: #ff99cc;\"> 2: 106 </span></p>\n",
    "<p><span style=\"background-color: #ff99cc;\"> 3: 90 </span></p>\n",
    "<p><span style=\"background-color: #ff99cc;\"> 4: 110 </span></p>\n",
    "<p><span style=\"background-color: #ff99cc;\"> 5: 100 </span></p>\n",
    "<p><span style=\"background-color: #ff99cc;\"> 6: 99 </span></p>\n",
    "<p><span style=\"background-color: #ff99cc;\"> 7: 88 </span></p>\n",
    "<p><span style=\"background-color: #ff99cc;\"> 8:111 </span></p>\n",
    "<p><span style=\"background-color: #ff99cc;\"> 9: 98 </span></p>\n",
    "<p><span style=\"background-color: #ff99cc;\"> 10: 111 </span></p>\n",
    "<p><span style=\"background-color: #ff99cc;\"> 11: 105 </span></p>\n",
    "<p><span style=\"background-color: #ff99cc;\"> 12: 98 </span></p>\n",
    "<p><span style=\"background-color: #ff99cc;\"> 13: 119 </span></p>\n",
    "<p><span style=\"background-color: #ff99cc;\"> 14: 102 </span></p>\n",
    "<p><span style=\"background-color: #ff99cc;\"> 15: 121 </span></p>\n",
    "<p><span style=\"background-color: #ff99cc;\"> 16: 115 </span></p>\n",
    "<p><span style=\"background-color: #ff99cc;\"> 17: 116 </span></p>\n",
    "<p><span style=\"background-color: #ff99cc;\"> 18: 107 </span></p>\n",
    "<p><span style=\"background-color: #ff99cc;\"> 19: 113 </span></p>\n",
    "<p><span style=\"background-color: #ff99cc;\"> 20: 91 </span></p>\n",
    "<p><span style=\"background-color: #ff99cc;\"> 21: 123 </span></p>\n",
    "<p><span style=\"background-color: #ff99cc;\"> 22: 103 </span></p>\n",
    "<p><span style=\"background-color: #ff99cc;\"> 23: 116 </span></p>\n",
    "<p><span style=\"background-color: #ff99cc;\"> 24: 108 </span></p>\n",
    "<p><span style=\"background-color: #ff99cc;\"> 25: 116 </span></p>\n",
    "<p><span style=\"background-color: #ff99cc;\"> 26: 116 </span></p>\n",
    "<p><span style=\"background-color: #ff99cc;\"> 27: 102 </span></p>\n",
    "<p><span style=\"background-color: #ff99cc;\"> 28: 104 </span></p>\n",
    "<p><span style=\"background-color: #ff99cc;\"> 29: 0 </span></p>\n",
    "<p><span style=\"background-color: #ff99cc;\"> 30: 0 </span></p>\n",
    "<p><span style=\"background-color: #ff99cc;\"> 31: 0 </span></p>\n",
    "</div>\n",
    "</div>\n",
    "<div class=\"rTableRow\">\n",
    "<div class=\"rTableCell\"><strong> <span style=\"background-color: #ffff99;\"> People born in each year </span> </strong></div>\n",
    "<div class=\"rTableCell\">\n",
    "<p><span style=\"background-color: #ffff99;\"> 1997: 756 </span></p>\n",
    "<p><span style=\"background-color: #ffff99;\"> 1998: 746 </span></p>\n",
    "<p><span style=\"background-color: #ffff99;\"> 1999: 756 </span></p>\n",
    "<p><span style=\"background-color: #ffff99;\"> 2000: 380 </span></p>\n",
    "<p><span style=\"background-color: #ffff99;\"> 2001: 362 </span></p>\n",
    "</div>\n",
    "</div>\n",
    "<div class=\"rTableRow\">\n",
    "<div class=\"rTableCell\"><strong> <span style=\"background-color: #99cc00;\"> People coming from each course </span> </strong></div>\n",
    "<div class=\"rTableCell\">\n",
    "<p><span style=\"background-color: #99cc00;\"> BS Communications Technology Management: 589 </span></p>\n",
    "<p><span style=\"background-color: #99cc00;\"> BS IT Entrepreneurship: 590 </span></p>\n",
    "<p><span style=\"background-color: #99cc00;\"> BS Legal Management: 585 </span></p>\n",
    "<p><span style=\"background-color: #99cc00;\"> BS Management: 629 </span></p>\n",
    "<p><span style=\"background-color: #99cc00;\"> BS Management Engineering: 607 </span></p>\n",
    "</div>\n",
    "</div>\n",
    "<div class=\"rTableRow\">\n",
    "<div class=\"rTableCell\"><span style=\"background-color: #99ccff;\"> <strong> People having numbers from Globe and Smart </strong> </span></div>\n",
    "<div class=\"rTableCell\">\n",
    "<p><span style=\"background-color: #99ccff;\"> Globe: 2045 </span></p>\n",
    "<p><span style=\"background-color: #99ccff;\"> Smart: 955 </span></p>\n",
    "</div>\n",
    "</div>\n",
    "<div class=\"rTableRow\">\n",
    "<div class=\"rTableCell\"><span style=\"color: #0000ff;\"> <strong> Globe </strong> </span></div>\n",
    "<div class=\"rTableCell\">\n",
    "<p><span style=\"color: #0000ff;\"> Male: 1061 </span></p>\n",
    "<p><span style=\"color: #0000ff;\"> Female: 984 </span></p>\n",
    "</div>\n",
    "</div>\n",
    "<div class=\"rTableRow\">\n",
    "<div class=\"rTableCell\"><strong><span style=\"color: #339966;\">Smart</span></strong></div>\n",
    "<div class=\"rTableCell\">\n",
    "<p><span style=\"color: #339966;\">Male: 461</span></p>\n",
    "<p><span style=\"color: #339966;\">Female: 494</span></p>\n",
    "</div>\n",
    "</div>\n",
    "</div>\n",
    "</div>\n",
    "<p style=\"text-align: left;\"> </p>\n",
    "\n",
    "\"\"\"\n",
    "\n",
    "with open(\"stats3b.html\",\"w+\") as stats_file:\n",
    "    stats_file.write(html)"
   ]
  }
 ],
 "metadata": {
  "kernelspec": {
   "display_name": "Python 3",
   "language": "python",
   "name": "python3"
  },
  "language_info": {
   "codemirror_mode": {
    "name": "ipython",
    "version": 3
   },
   "file_extension": ".py",
   "mimetype": "text/x-python",
   "name": "python",
   "nbconvert_exporter": "python",
   "pygments_lexer": "ipython3",
   "version": "3.7.3"
  }
 },
 "nbformat": 4,
 "nbformat_minor": 2
}
